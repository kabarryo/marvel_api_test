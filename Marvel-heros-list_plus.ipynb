{
 "cells": [
  {
   "cell_type": "code",
   "execution_count": 1,
   "metadata": {},
   "outputs": [],
   "source": [
    "#首先把需要用的库引入进来\n",
    "import requests\n",
    "from IPython.display import Image\n",
    "import time\n",
    "from hashlib import md5\n",
    "import json\n",
    "import os\n",
    "import marvel\n",
    "import sys\n",
    "from multiprocessing.pool import Pool\n",
    "from functools import partial"
   ]
  },
  {
   "cell_type": "code",
   "execution_count": 2,
   "metadata": {},
   "outputs": [],
   "source": [
    "#获取Marvel所有英雄的基本数据（API）\n",
    "#http://gateway.marvel.com/v1/public/comics?ts=1&apikey=1234&hash=ffd275c5130566a2916217b101f26150\n",
    "#public key: b429b36ad9c859671f28487a8acdca22 \n",
    "#private key: 10486b67a96262c7c4859f963ae11c36d94352e6\n",
    "\n",
    "marvel.pbkey = '799bc03dd2d54122769693bdb347f571'\n",
    "marvel.pvkey = 'b72ea3902488bafd62479523874582581b82e122'\n",
    "\n",
    "\n",
    "#定义md5key生成函数\n",
    "# def hashkey(pvkey,pbkey):\n",
    "#     ts = str(time.time())[-6:]   #timestamp ts\n",
    "#     key = ts + pvkey + pbkey\n",
    "#     _md5key = md5(key.encode('utf-8')).hexdigest()\n",
    "#     return _md5key,ts"
   ]
  },
  {
   "cell_type": "code",
   "execution_count": 10,
   "metadata": {},
   "outputs": [],
   "source": [
    "\n",
    "#获取指定类别名的数据总条目数，返回整数:total\n",
    "def get_total(data_class):\n",
    "    if type(data_class) != str:\n",
    "        raise  Exception(\"func 'get_total()' need str type\")\n",
    "            \n",
    "    limit = '1'\n",
    "    offset = 0\n",
    "    md5key,ts = marvel.hashkey()\n",
    "    url =  \"https://gateway.marvel.com:443/v1/public/\"+data_class+\"?\"\\\n",
    "            \"offset=\"+str(offset)+\"&limit=\"+limit+\"&ts=\"+ts+\"&apikey=\"+marvel.pbkey+\"&hash=\"+md5key\n",
    "    contents = requests.get(url,timeout = None)\n",
    "    if contents.status_code == 200:\n",
    "            print('Get',data_class,'total.......[Done]')\n",
    "    else:\n",
    "            print('Get',data_class,'total.......[Fail]',contents.status_code)\n",
    "            sys.exit()\n",
    "    contents_r = json.loads(contents.text)\n",
    "    total = contents_r['data']['total']\n",
    "    print('total',data_class,':',total)\n",
    "    return total\n",
    "\n",
    "\n",
    "\n",
    "#total = get_total(data_class)\n",
    "\n",
    "#单独抓取一次的函数，参数为类别名:data_class,偏移量：offset\n",
    "def get_data(data_class, offset = 0):\n",
    "    if type(data_class) != str:\n",
    "        raise Exception(\"func 'get_data()' need str type\")\n",
    "    count = 0\n",
    "    item_list =[]\n",
    "    #offset = 0\n",
    "    limit = '100'\n",
    "    \n",
    "    while True :\n",
    "        md5key,ts = marvel.hashkey()\n",
    "        url =  \"https://gateway.marvel.com:443/v1/public/\"+data_class+\"?\"\\\n",
    "                          \"offset=\"+str(offset)+\"&limit=\"+limit+\"&ts=\"+ts+\"&apikey=\"+marvel.pbkey+\"&hash=\"+md5key\n",
    "        #print(url)\n",
    "        print('['+time.ctime()+']',offset,'-',offset+100,'fetching...............',end = '')\n",
    "        contents = requests.get(url, timeout = None)\n",
    "        \n",
    "        if contents.status_code == 200:\n",
    "            print('[Done]')\n",
    "            #fail_locate = '' #增加出错位置标记\n",
    "        else:\n",
    "            print('[Fail]',contents.status_code)\n",
    "            #fail_locate = offset #增加出错位置标记\n",
    "            time.sleep(1)\n",
    "            break\n",
    "        print('['+time.ctime()+']',offset,'-',offset+100,'Decoding...............',end='')\n",
    "        contents_r = json.loads(contents.text)\n",
    "        print('[Done]')\n",
    "        #count += contents_r['data']['count']\n",
    "        #print(count)\n",
    "        #offset += 100\n",
    "        print('['+time.ctime()+']',offset,'-',offset+100,'Appending to Dict......',end='')\n",
    "\n",
    "        for item in contents_r['data']['results']:\n",
    "            item_list.append(item)     \n",
    "        print('[Done]')\n",
    "\n",
    "        return item_list\n",
    "        time.sleep(1)\n",
    "        break\n",
    "        #count -= 1\n",
    "\n",
    "#def fail(locatioin):\n",
    "    \n",
    "        \n",
    "\n",
    "#多进程抓取指定data_class类别的数据，每个进程100条数据\n",
    "#参数data_class 为marvel类别保留字，hyper为开启进程数量\n",
    "#本函数自动获取类别名下数据总条数:total，然后自动设置偏移量:offset完成全部抓取\n",
    "#返回两个值，list类型的results_list和整数型的total(总条目数)\n",
    "\n",
    "def hyper_get_data(data_class,hyper=1):\n",
    "    data_class_i = data_class\n",
    "    total = get_total(data_class_i)\n",
    "    total_left = total\n",
    "    #生成offset_list\n",
    "    offset_list = [0]\n",
    "    while total_left >= 0:\n",
    "        offset_list.append(offset_list[-1]+100)\n",
    "        total_left -= 100\n",
    "    offset_list = offset_list[:-1]\n",
    "    \n",
    "    t=time.time()\n",
    "    pool = Pool(hyper)\n",
    "    get_data_p = partial(get_data, data_class_i)\n",
    "    results = pool.map(get_data_p,offset_list) #返回结果列表和出错列表\n",
    "    pool.close()\n",
    "    pool.join()\n",
    "    print('Done!\\n',len(results),'pages got!')\n",
    "    print(round(time.time()-t,2),'sec spended.')\n",
    "    print('Coverting list......', end = '')\n",
    "    results_list = []\n",
    "    for result in results:\n",
    "        results_list += result\n",
    "    print('Done!','\\n',len(results_list),data_class,'got!')\n",
    "    \n",
    "    return results_list,total\n",
    "    \n",
    "#将抓取完成的类别数据写入相应的json文件，文件名为类别名。\n",
    "def write_file(data_class,total,res):        \n",
    "    item_dict={'data_class':data_class,'total':total,'results':res}\n",
    "    #print(item_dict)\n",
    "    print('['+time.ctime()+']','Converting to JSON ......',end='')\n",
    "    item_j = json.dumps(item_dict)\n",
    "    print('[Done]')\n",
    "    print('['+time.ctime()+']','Writting to',os.getcwd()+'/'+data_class+'.json ......',end='')\n",
    "    with open(data_class+'.json','w') as item_f:\n",
    "        item_f.write(str(item_j))\n",
    "        print('[Done]')\n",
    "       "
   ]
  },
  {
   "cell_type": "code",
   "execution_count": 11,
   "metadata": {},
   "outputs": [],
   "source": [
    "class_name = ['characters','comics','creators','events','series','stories']\n",
    "# data_class = class_name[0]\n",
    "# res,total=hyper_get_data(data_class,15)\n"
   ]
  },
  {
   "cell_type": "code",
   "execution_count": 12,
   "metadata": {},
   "outputs": [],
   "source": [
    "# write_file(data_class,total,res)"
   ]
  },
  {
   "cell_type": "code",
   "execution_count": 14,
   "metadata": {},
   "outputs": [
    {
     "name": "stdout",
     "output_type": "stream",
     "text": [
      "Get comics total.......[Fail] 429\n"
     ]
    },
    {
     "ename": "SystemExit",
     "evalue": "",
     "output_type": "error",
     "traceback": [
      "An exception has occurred, use %tb to see the full traceback.\n",
      "\u001b[0;31mSystemExit\u001b[0m\n"
     ]
    }
   ],
   "source": [
    "data_class = class_name[1]\n",
    "res,total=hyper_get_data(data_class,20)\n",
    "#write_file(data_class,total,res)"
   ]
  },
  {
   "cell_type": "code",
   "execution_count": null,
   "metadata": {},
   "outputs": [],
   "source": [
    "#write_file(data_class,total,res)"
   ]
  },
  {
   "cell_type": "code",
   "execution_count": null,
   "metadata": {},
   "outputs": [],
   "source": []
  },
  {
   "cell_type": "code",
   "execution_count": null,
   "metadata": {},
   "outputs": [],
   "source": []
  }
 ],
 "metadata": {
  "kernelspec": {
   "display_name": "Python 3",
   "language": "python",
   "name": "python3"
  },
  "language_info": {
   "codemirror_mode": {
    "name": "ipython",
    "version": 3
   },
   "file_extension": ".py",
   "mimetype": "text/x-python",
   "name": "python",
   "nbconvert_exporter": "python",
   "pygments_lexer": "ipython3",
   "version": "3.6.5"
  }
 },
 "nbformat": 4,
 "nbformat_minor": 2
}
