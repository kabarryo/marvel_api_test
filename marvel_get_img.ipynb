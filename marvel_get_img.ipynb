{
 "cells": [
  {
   "cell_type": "code",
   "execution_count": 51,
   "metadata": {},
   "outputs": [],
   "source": [
    "import json\n",
    "import re\n",
    "import requests\n",
    "import os\n",
    "from multiprocessing.pool import Pool\n",
    "import multiprocessing\n",
    "import time\n",
    "import random"
   ]
  },
  {
   "cell_type": "code",
   "execution_count": 52,
   "metadata": {},
   "outputs": [
    {
     "data": {
      "text/plain": [
       "1491"
      ]
     },
     "execution_count": 52,
     "metadata": {},
     "output_type": "execute_result"
    }
   ],
   "source": [
    "with open('hero_dict_n.txt','r') as hero_f:\n",
    "    hero_list = json.loads(hero_f.read())\n",
    "no_img = 0\n",
    "yes_img = 0\n",
    "imgs_url = {}\n",
    "for item in hero_list['heros_list']:\n",
    "    hero_id = item['id']\n",
    "    img = item['thumbnail']['path']+'.'+item['thumbnail']['extension']\n",
    "    imgs_url[hero_id] = img\n",
    "    \n",
    "\n",
    "\n",
    "len(imgs_url)"
   ]
  },
  {
   "cell_type": "markdown",
   "metadata": {},
   "source": [
    "noimg:509 has img:982 total:1491  has img(without same filename) :965"
   ]
  },
  {
   "cell_type": "code",
   "execution_count": 56,
   "metadata": {},
   "outputs": [],
   "source": [
    "\n",
    "def make_dir(_path_name):\n",
    "    #print(f'Try to make dir: {_path_name}  ...',end='')\n",
    "    if os.path.exists(_path_name):\n",
    "        pass\n",
    "        #print('Dir already exists.')\n",
    "    else:    \n",
    "        os.makedirs(_path_name)\n",
    "        #print('Success!')\n",
    "\n",
    "\n",
    "\n",
    "\n",
    "def get_images(idurl):\n",
    "    time.sleep(random.choice([0,12,3,0,40,7,5,9]))\n",
    "    _ids = idurl.split('|')[0]\n",
    "    _url = idurl.split('|')[1]\n",
    "    if re.search(r'.*not.*',_url):\n",
    "        file_name = 'image_not_available.jpg'\n",
    "        path_name = 'mg/b/40/'\n",
    "    else:\n",
    "        file_name = _url[-17:]\n",
    "        path_name = _url[-25:-17]\n",
    "    #print(f'Hero:{_ids}')\n",
    "    make_dir(path_name)\n",
    "        \n",
    "    #print(f'image no.{n} fetching.',ids,url)\n",
    "    if os.path.exists(path_name+file_name):\n",
    "        pass\n",
    "        #print(f'File:{file_name} already exists! Skip...')\n",
    "    else:\n",
    "        #print(f'Fetching {file_name}.....',end='')\n",
    "        img_data = requests.get(_url)\n",
    "        with open(path_name+file_name,'wb') as img_f:\n",
    "            img_f.write(img_data.content)\n",
    "        #print('Done')\n",
    "    \n",
    "    return _ids\n",
    "\n",
    "def main_def(url_l):\n",
    "    t=time.time()\n",
    "    pool = Pool(80) #80个进程        \n",
    "    res = pool.map(get_images,url_l)\n",
    "    pool.close()\n",
    "    pool.join()\n",
    "    print(len(res),'images got!')\n",
    "    #print(len(res))\n",
    "    print(str(time.time()-t),'sec spended.')\n",
    "    return res\n",
    "\n",
    "\n",
    "url_l = []\n",
    "iddd = []\n",
    "for ids in imgs_url.keys():\n",
    "    url_l.append(ids+'|'+imgs_url[ids])\n",
    "    iddd.append(ids)"
   ]
  },
  {
   "cell_type": "markdown",
   "metadata": {},
   "source": [
    "## 198 秒 1491个目标 966 不同张图片，全部下载成功！\n",
    "\n",
    "用命令```ls -lR marvel/mg/ | grep '^-'|wc -l ```查看，得到966个文件的结果。"
   ]
  },
  {
   "cell_type": "code",
   "execution_count": 54,
   "metadata": {},
   "outputs": [
    {
     "name": "stdout",
     "output_type": "stream",
     "text": [
      "1491 images got!\n",
      "269.7651345729828 sec spended.\n"
     ]
    }
   ],
   "source": [
    "iidd = main_def(url_l) #建议在console中运行"
   ]
  },
  {
   "cell_type": "code",
   "execution_count": 55,
   "metadata": {},
   "outputs": [
    {
     "name": "stdout",
     "output_type": "stream",
     "text": [
      "True\n"
     ]
    }
   ],
   "source": [
    "for i in range(1491):\n",
    "    if iidd[i] == iddd[i]:\n",
    "        ans = True\n",
    "    else:\n",
    "        ans = False\n",
    "print(ans)"
   ]
  },
  {
   "cell_type": "code",
   "execution_count": 1,
   "metadata": {},
   "outputs": [
    {
     "name": "stdout",
     "output_type": "stream",
     "text": [
      "91M\tmg\n"
     ]
    }
   ],
   "source": [
    "!du -sh mg #查看图片文件总容量"
   ]
  },
  {
   "cell_type": "code",
   "execution_count": 8,
   "metadata": {},
   "outputs": [
    {
     "name": "stdout",
     "output_type": "stream",
     "text": [
      "966\n"
     ]
    }
   ],
   "source": [
    "!ls -lR mg/ | grep '^-'|wc -l"
   ]
  },
  {
   "cell_type": "code",
   "execution_count": 8,
   "metadata": {},
   "outputs": [
    {
     "data": {
      "text/plain": [
       "80"
      ]
     },
     "execution_count": 8,
     "metadata": {},
     "output_type": "execute_result"
    }
   ],
   "source": [
    "multiprocessing.cpu_count()"
   ]
  },
  {
   "cell_type": "code",
   "execution_count": 61,
   "metadata": {},
   "outputs": [
    {
     "data": {
      "text/plain": [
       "\u001b[0;31mSignature:\u001b[0m \u001b[0mPool\u001b[0m\u001b[0;34m.\u001b[0m\u001b[0mmap\u001b[0m\u001b[0;34m(\u001b[0m\u001b[0mself\u001b[0m\u001b[0;34m,\u001b[0m \u001b[0mfunc\u001b[0m\u001b[0;34m,\u001b[0m \u001b[0miterable\u001b[0m\u001b[0;34m,\u001b[0m \u001b[0mchunksize\u001b[0m\u001b[0;34m=\u001b[0m\u001b[0;32mNone\u001b[0m\u001b[0;34m)\u001b[0m\u001b[0;34m\u001b[0m\u001b[0m\n",
       "\u001b[0;31mDocstring:\u001b[0m\n",
       "Apply `func` to each element in `iterable`, collecting the results\n",
       "in a list that is returned.\n",
       "\u001b[0;31mFile:\u001b[0m      /opt/tljh/user/lib/python3.6/multiprocessing/pool.py\n",
       "\u001b[0;31mType:\u001b[0m      function\n"
      ]
     },
     "metadata": {},
     "output_type": "display_data"
    }
   ],
   "source": [
    "?Pool.map"
   ]
  },
  {
   "cell_type": "code",
   "execution_count": null,
   "metadata": {},
   "outputs": [],
   "source": []
  }
 ],
 "metadata": {
  "kernelspec": {
   "display_name": "Python 3",
   "language": "python",
   "name": "python3"
  },
  "language_info": {
   "codemirror_mode": {
    "name": "ipython",
    "version": 3
   },
   "file_extension": ".py",
   "mimetype": "text/x-python",
   "name": "python",
   "nbconvert_exporter": "python",
   "pygments_lexer": "ipython3",
   "version": "3.6.5"
  }
 },
 "nbformat": 4,
 "nbformat_minor": 2
}
